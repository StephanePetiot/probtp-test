{
 "cells": [
  {
   "cell_type": "markdown",
   "metadata": {},
   "source": [
    "# Test technique PRO BTP Data Scientist - Open Data SNCF Dataset\n",
    "\n",
    "# Stéphane PETIOT"
   ]
  },
  {
   "cell_type": "markdown",
   "metadata": {},
   "source": [
    "## Import des librairies"
   ]
  },
  {
   "cell_type": "code",
   "execution_count": 26,
   "metadata": {},
   "outputs": [],
   "source": [
    "import pandas as pd\n",
    "import numpy as np\n",
    "import matplotlib.pyplot as plt"
   ]
  },
  {
   "cell_type": "markdown",
   "metadata": {},
   "source": [
    "## Récupération du dataset CSV"
   ]
  },
  {
   "cell_type": "code",
   "execution_count": 27,
   "metadata": {},
   "outputs": [
    {
     "data": {
      "text/html": [
       "<div>\n",
       "<style scoped>\n",
       "    .dataframe tbody tr th:only-of-type {\n",
       "        vertical-align: middle;\n",
       "    }\n",
       "\n",
       "    .dataframe tbody tr th {\n",
       "        vertical-align: top;\n",
       "    }\n",
       "\n",
       "    .dataframe thead th {\n",
       "        text-align: right;\n",
       "    }\n",
       "</style>\n",
       "<table border=\"1\" class=\"dataframe\">\n",
       "  <thead>\n",
       "    <tr style=\"text-align: right;\">\n",
       "      <th></th>\n",
       "      <th>JOUR</th>\n",
       "      <th>CODE_STIF_TRNS</th>\n",
       "      <th>CODE_STIF_RES</th>\n",
       "      <th>CODE_STIF_ARRET</th>\n",
       "      <th>LIBELLE_ARRET</th>\n",
       "      <th>ID_REFA_LDA</th>\n",
       "      <th>CATEGORIE_TITRE</th>\n",
       "      <th>NB_VALD</th>\n",
       "    </tr>\n",
       "  </thead>\n",
       "  <tbody>\n",
       "    <tr>\n",
       "      <th>0</th>\n",
       "      <td>2020-01-03</td>\n",
       "      <td>800</td>\n",
       "      <td>852</td>\n",
       "      <td>432</td>\n",
       "      <td>LE PERRAY</td>\n",
       "      <td>62804.0</td>\n",
       "      <td>TST</td>\n",
       "      <td>Moins de 5</td>\n",
       "    </tr>\n",
       "    <tr>\n",
       "      <th>1</th>\n",
       "      <td>2020-01-03</td>\n",
       "      <td>800</td>\n",
       "      <td>852</td>\n",
       "      <td>515</td>\n",
       "      <td>MAREIL-SUR-MAULDRE</td>\n",
       "      <td>64572.0</td>\n",
       "      <td>NAVIGO</td>\n",
       "      <td>18</td>\n",
       "    </tr>\n",
       "    <tr>\n",
       "      <th>2</th>\n",
       "      <td>2020-01-03</td>\n",
       "      <td>800</td>\n",
       "      <td>852</td>\n",
       "      <td>526</td>\n",
       "      <td>MAULE</td>\n",
       "      <td>64674.0</td>\n",
       "      <td>AMETHYSTE</td>\n",
       "      <td>Moins de 5</td>\n",
       "    </tr>\n",
       "    <tr>\n",
       "      <th>3</th>\n",
       "      <td>2020-01-03</td>\n",
       "      <td>800</td>\n",
       "      <td>852</td>\n",
       "      <td>538</td>\n",
       "      <td>MEUDON</td>\n",
       "      <td>70515.0</td>\n",
       "      <td>TST</td>\n",
       "      <td>Moins de 5</td>\n",
       "    </tr>\n",
       "    <tr>\n",
       "      <th>4</th>\n",
       "      <td>2020-01-03</td>\n",
       "      <td>800</td>\n",
       "      <td>852</td>\n",
       "      <td>561</td>\n",
       "      <td>MONTPARNASSE</td>\n",
       "      <td>71139.0</td>\n",
       "      <td>IMAGINE R</td>\n",
       "      <td>1600</td>\n",
       "    </tr>\n",
       "    <tr>\n",
       "      <th>...</th>\n",
       "      <td>...</td>\n",
       "      <td>...</td>\n",
       "      <td>...</td>\n",
       "      <td>...</td>\n",
       "      <td>...</td>\n",
       "      <td>...</td>\n",
       "      <td>...</td>\n",
       "      <td>...</td>\n",
       "    </tr>\n",
       "    <tr>\n",
       "      <th>835136</th>\n",
       "      <td>2020-05-15</td>\n",
       "      <td>100</td>\n",
       "      <td>110</td>\n",
       "      <td>778</td>\n",
       "      <td>SAINT-PHILIPPE-DU-ROULE</td>\n",
       "      <td>71334.0</td>\n",
       "      <td>AMETHYSTE</td>\n",
       "      <td>19</td>\n",
       "    </tr>\n",
       "    <tr>\n",
       "      <th>835137</th>\n",
       "      <td>2020-05-15</td>\n",
       "      <td>100</td>\n",
       "      <td>110</td>\n",
       "      <td>778</td>\n",
       "      <td>SAINT-PHILIPPE-DU-ROULE</td>\n",
       "      <td>71334.0</td>\n",
       "      <td>NON DEFINI</td>\n",
       "      <td>18</td>\n",
       "    </tr>\n",
       "    <tr>\n",
       "      <th>835138</th>\n",
       "      <td>2020-05-15</td>\n",
       "      <td>100</td>\n",
       "      <td>110</td>\n",
       "      <td>780</td>\n",
       "      <td>SAINT-SEBASTIEN FROISSART</td>\n",
       "      <td>71777.0</td>\n",
       "      <td>AUTRE TITRE</td>\n",
       "      <td>37</td>\n",
       "    </tr>\n",
       "    <tr>\n",
       "      <th>835139</th>\n",
       "      <td>2020-05-15</td>\n",
       "      <td>100</td>\n",
       "      <td>110</td>\n",
       "      <td>781</td>\n",
       "      <td>SAINT-SULPICE</td>\n",
       "      <td>71202.0</td>\n",
       "      <td>AUTRE TITRE</td>\n",
       "      <td>41</td>\n",
       "    </tr>\n",
       "    <tr>\n",
       "      <th>835140</th>\n",
       "      <td>2020-05-15</td>\n",
       "      <td>100</td>\n",
       "      <td>110</td>\n",
       "      <td>781</td>\n",
       "      <td>SAINT-SULPICE</td>\n",
       "      <td>71202.0</td>\n",
       "      <td>NAVIGO JOUR</td>\n",
       "      <td>7</td>\n",
       "    </tr>\n",
       "  </tbody>\n",
       "</table>\n",
       "<p>835141 rows × 8 columns</p>\n",
       "</div>"
      ],
      "text/plain": [
       "              JOUR  CODE_STIF_TRNS CODE_STIF_RES CODE_STIF_ARRET  \\\n",
       "0       2020-01-03             800           852             432   \n",
       "1       2020-01-03             800           852             515   \n",
       "2       2020-01-03             800           852             526   \n",
       "3       2020-01-03             800           852             538   \n",
       "4       2020-01-03             800           852             561   \n",
       "...            ...             ...           ...             ...   \n",
       "835136  2020-05-15             100           110             778   \n",
       "835137  2020-05-15             100           110             778   \n",
       "835138  2020-05-15             100           110             780   \n",
       "835139  2020-05-15             100           110             781   \n",
       "835140  2020-05-15             100           110             781   \n",
       "\n",
       "                    LIBELLE_ARRET  ID_REFA_LDA CATEGORIE_TITRE     NB_VALD  \n",
       "0                       LE PERRAY      62804.0             TST  Moins de 5  \n",
       "1              MAREIL-SUR-MAULDRE      64572.0          NAVIGO          18  \n",
       "2                           MAULE      64674.0       AMETHYSTE  Moins de 5  \n",
       "3                          MEUDON      70515.0             TST  Moins de 5  \n",
       "4                    MONTPARNASSE      71139.0       IMAGINE R        1600  \n",
       "...                           ...          ...             ...         ...  \n",
       "835136    SAINT-PHILIPPE-DU-ROULE      71334.0       AMETHYSTE          19  \n",
       "835137    SAINT-PHILIPPE-DU-ROULE      71334.0      NON DEFINI          18  \n",
       "835138  SAINT-SEBASTIEN FROISSART      71777.0     AUTRE TITRE          37  \n",
       "835139              SAINT-SULPICE      71202.0     AUTRE TITRE          41  \n",
       "835140              SAINT-SULPICE      71202.0     NAVIGO JOUR           7  \n",
       "\n",
       "[835141 rows x 8 columns]"
      ]
     },
     "execution_count": 27,
     "metadata": {},
     "output_type": "execute_result"
    }
   ],
   "source": [
    "df_sncf = pd.read_csv('validations-sur-le-reseau-ferre-nombre-de-validations-par-jour-1er-sem.csv', sep = ';')\n",
    "df_sncf"
   ]
  },
  {
   "cell_type": "markdown",
   "metadata": {},
   "source": [
    "## Exploration des données"
   ]
  },
  {
   "cell_type": "raw",
   "metadata": {},
   "source": [
    "Tout d'abord, avant d'envisager un traitement des données, il est primordial de les comprendre. Pour ce faire, consultons la documentation relative à ce dataset, disponible à l'adresse :\n",
    "https://www.data.gouv.fr/fr/datasets/validations-sur-le-reseau-ferre-nombre-de-validations-par-jour-1er-semestre-2020/\n",
    "\n",
    "Ce dataset recense l'ensemble des données de validation de titres de transport sur le réseau de transport ferré en IDF :\n",
    "--> Réseau ferré : RER, Métro, Transilien\n",
    "    \"Dans le cas du réseau ferré, les validations sont rattachées à une station (et non à une ligne). En effet, la\n",
    "    validation se fait à l’entrée de la station, indépendamment de la ligne précise empruntée. De plus, une fois entré dans le\n",
    "    réseau métro ou RER, l’usager n’a en général pas besoin de revalider lorsqu’il change de ligne.\"\n",
    "--> Réseau de surface : Bus, Tramway\n",
    "    \"Pour le réseau de surface (bus, tram), le valideur est mobile puisqu’il se situe dans le bus/tram lui-même. La\n",
    "    validation peut donc être facilement associée à une ligne.\"\n",
    "Remarque : La ligne 4 du Tramway d'IDF 'T4' est considérée en mode ferré\n",
    "\n",
    "On identifie les lignes et les arrêts par des identifiants spécifiques, qui sont composés de 3 codes :\n",
    "--> Pour les lignes :\n",
    "    --> Code STIF du transporteur de la ligne\n",
    "    --> Code STIF du réseau administratif\n",
    "    --> Code STIF de la ligne\n",
    "--> Pour les arrêts :\n",
    "    --> Code STIF du transporteur : Métro, RER, etc.\n",
    "    --> Code STIF du réseau\n",
    "    --> Code STIF de l'arrêt\n",
    "\n",
    "Dans le cadre de notre jeu de données, il est question de l'ensemble des validations par jour sur le réseau ferré"
   ]
  },
  {
   "cell_type": "code",
   "execution_count": 28,
   "metadata": {},
   "outputs": [
    {
     "data": {
      "text/html": [
       "<style  type=\"text/css\" >\n",
       "</style><table id=\"T_b231fc5a_299a_11eb_b764_409f382e326c\" ><thead>    <tr>        <th class=\"col_heading level0 col0\" >VARIABLES</th>        <th class=\"col_heading level0 col1\" >FORMAT</th>        <th class=\"col_heading level0 col2\" >DEFINITION</th>    </tr></thead><tbody>\n",
       "                <tr>\n",
       "                                <td id=\"T_b231fc5a_299a_11eb_b764_409f382e326crow0_col0\" class=\"data row0 col0\" >JOUR</td>\n",
       "                        <td id=\"T_b231fc5a_299a_11eb_b764_409f382e326crow0_col1\" class=\"data row0 col1\" >Date</td>\n",
       "                        <td id=\"T_b231fc5a_299a_11eb_b764_409f382e326crow0_col2\" class=\"data row0 col2\" >Jour d’exploitation (de 04:00 à 03:59 le lendemain)</td>\n",
       "            </tr>\n",
       "            <tr>\n",
       "                                <td id=\"T_b231fc5a_299a_11eb_b764_409f382e326crow1_col0\" class=\"data row1 col0\" >COD_STIF_TRNS</td>\n",
       "                        <td id=\"T_b231fc5a_299a_11eb_b764_409f382e326crow1_col1\" class=\"data row1 col1\" >Numérique</td>\n",
       "                        <td id=\"T_b231fc5a_299a_11eb_b764_409f382e326crow1_col2\" class=\"data row1 col2\" >Code Stif du transporteur</td>\n",
       "            </tr>\n",
       "            <tr>\n",
       "                                <td id=\"T_b231fc5a_299a_11eb_b764_409f382e326crow2_col0\" class=\"data row2 col0\" >COD_STIF_RES</td>\n",
       "                        <td id=\"T_b231fc5a_299a_11eb_b764_409f382e326crow2_col1\" class=\"data row2 col1\" >Numérique</td>\n",
       "                        <td id=\"T_b231fc5a_299a_11eb_b764_409f382e326crow2_col2\" class=\"data row2 col2\" >Code Stif du réseau</td>\n",
       "            </tr>\n",
       "            <tr>\n",
       "                                <td id=\"T_b231fc5a_299a_11eb_b764_409f382e326crow3_col0\" class=\"data row3 col0\" >COD_STIF_ARRET</td>\n",
       "                        <td id=\"T_b231fc5a_299a_11eb_b764_409f382e326crow3_col1\" class=\"data row3 col1\" >Numérique</td>\n",
       "                        <td id=\"T_b231fc5a_299a_11eb_b764_409f382e326crow3_col2\" class=\"data row3 col2\" >Code Stif de l’arrêt/station</td>\n",
       "            </tr>\n",
       "            <tr>\n",
       "                                <td id=\"T_b231fc5a_299a_11eb_b764_409f382e326crow4_col0\" class=\"data row4 col0\" >LIBELLE_ARRET</td>\n",
       "                        <td id=\"T_b231fc5a_299a_11eb_b764_409f382e326crow4_col1\" class=\"data row4 col1\" >Caractère</td>\n",
       "                        <td id=\"T_b231fc5a_299a_11eb_b764_409f382e326crow4_col2\" class=\"data row4 col2\" >Libellé de l’arrêt/station</td>\n",
       "            </tr>\n",
       "            <tr>\n",
       "                                <td id=\"T_b231fc5a_299a_11eb_b764_409f382e326crow5_col0\" class=\"data row5 col0\" >ID_REFA_LDA</td>\n",
       "                        <td id=\"T_b231fc5a_299a_11eb_b764_409f382e326crow5_col1\" class=\"data row5 col1\" >Caractère</td>\n",
       "                        <td id=\"T_b231fc5a_299a_11eb_b764_409f382e326crow5_col2\" class=\"data row5 col2\" >Identifiant arrêt référentiel STIF</td>\n",
       "            </tr>\n",
       "            <tr>\n",
       "                                <td id=\"T_b231fc5a_299a_11eb_b764_409f382e326crow6_col0\" class=\"data row6 col0\" >CATEGORIE_TITRE</td>\n",
       "                        <td id=\"T_b231fc5a_299a_11eb_b764_409f382e326crow6_col1\" class=\"data row6 col1\" >Caractère</td>\n",
       "                        <td id=\"T_b231fc5a_299a_11eb_b764_409f382e326crow6_col2\" class=\"data row6 col2\" >Titre de transport</td>\n",
       "            </tr>\n",
       "            <tr>\n",
       "                                <td id=\"T_b231fc5a_299a_11eb_b764_409f382e326crow7_col0\" class=\"data row7 col0\" >NB_VALD</td>\n",
       "                        <td id=\"T_b231fc5a_299a_11eb_b764_409f382e326crow7_col1\" class=\"data row7 col1\" >Numérique</td>\n",
       "                        <td id=\"T_b231fc5a_299a_11eb_b764_409f382e326crow7_col2\" class=\"data row7 col2\" >Nombre de validations (en entrée sur le réseau)</td>\n",
       "            </tr>\n",
       "    </tbody></table>"
      ],
      "text/plain": [
       "<pandas.io.formats.style.Styler at 0x25d31be4f70>"
      ]
     },
     "execution_count": 28,
     "metadata": {},
     "output_type": "execute_result"
    }
   ],
   "source": [
    "# Description des différentes données d'entrées\n",
    "pd.set_option('max_colwidth', None)\n",
    "pd.DataFrame(\n",
    "    data = {\n",
    "        'VARIABLES' : ['JOUR', 'COD_STIF_TRNS', 'COD_STIF_RES', 'COD_STIF_ARRET', 'LIBELLE_ARRET', 'ID_REFA_LDA', 'CATEGORIE_TITRE', 'NB_VALD'],\n",
    "        'FORMAT' : ['Date', 'Numérique', 'Numérique', 'Numérique', 'Caractère', 'Caractère', 'Caractère', 'Numérique'],\n",
    "        'DEFINITION' : ['Jour d’exploitation (de 04:00 à 03:59 le lendemain)', 'Code Stif du transporteur', 'Code Stif du réseau', 'Code Stif de l’arrêt/station', 'Libellé de l’arrêt/station', 'Identifiant arrêt référentiel STIF', 'Titre de transport', 'Nombre de validations (en entrée sur le réseau)']\n",
    "    }\n",
    ").style.hide_index()"
   ]
  },
  {
   "cell_type": "code",
   "execution_count": 29,
   "metadata": {},
   "outputs": [
    {
     "data": {
      "text/plain": [
       "JOUR                object\n",
       "CODE_STIF_TRNS       int64\n",
       "CODE_STIF_RES       object\n",
       "CODE_STIF_ARRET     object\n",
       "LIBELLE_ARRET       object\n",
       "ID_REFA_LDA        float64\n",
       "CATEGORIE_TITRE     object\n",
       "NB_VALD             object\n",
       "dtype: object"
      ]
     },
     "execution_count": 29,
     "metadata": {},
     "output_type": "execute_result"
    }
   ],
   "source": [
    "# Assurons-nous que les données soient au bon format\n",
    "df_sncf.dtypes"
   ]
  },
  {
   "cell_type": "raw",
   "metadata": {},
   "source": [
    "Il s'agit donc de convertir les colonnes vers les formats adaptés\n",
    "Les codes d'identification STIF ainsi que la feature ID_REFA_LDA sont des entiers naturels\n",
    "Le nombre de validation NB_VALD est également censé être un entier naturel\n",
    "Les features restantes sont des données catégorielles de type 'Chaîne de caratères'"
   ]
  },
  {
   "cell_type": "markdown",
   "metadata": {},
   "source": [
    "## Pré-traitement et nettoyage des données"
   ]
  },
  {
   "cell_type": "code",
   "execution_count": 30,
   "metadata": {},
   "outputs": [],
   "source": [
    "# Date : on utilise le format datetime de pandas\n",
    "df_sncf['JOUR'] = pd.to_datetime(df_sncf['JOUR'])\n",
    "df_sncf = df_sncf.sort_values('JOUR')\n",
    "\n",
    "# La connaissance de la date précise n'est pas forcément pertinente dans le cadre d'une prédiction de volume de transport\n",
    "# Ce qui peut en revanche être pertinent, c'est de connaître le jour de la semaine ainsi que le mois de l'année, car l'affluence\n",
    "# peut varier significativement en fonction de ces deux données\n",
    "df_sncf['DayOfWeek'] = df_sncf['JOUR'].dt.dayofweek\n",
    "df_sncf['Month'] = df_sncf['JOUR'].dt.month\n"
   ]
  },
  {
   "cell_type": "code",
   "execution_count": 31,
   "metadata": {},
   "outputs": [],
   "source": [
    "# Dates :\n",
    "df_sncf['DayOfWeek'] = pd.to_numeric(df_sncf['DayOfWeek'], downcast = 'unsigned')\n",
    "df_sncf['Month'] = pd.to_numeric(df_sncf['Month'], downcast = 'unsigned')\n",
    "\n",
    "# Codes STIF :\n",
    "df_sncf['CODE_STIF_TRNS'] = pd.to_numeric(df_sncf['CODE_STIF_TRNS'], downcast = 'unsigned')\n",
    "# Il existe quelques rares anomalies (Valeurs 'ND', Non Desservis ? Interruptions sur la ligne ?)\n",
    "# On va donc utiliser une expression régulière (RegEx)\n",
    "df_sncf['CODE_STIF_RES'] = pd.to_numeric(df_sncf['CODE_STIF_RES'].str.extract('(\\d+)')[0].astype(float), downcast = 'unsigned')\n",
    "df_sncf['CODE_STIF_ARRET'] = pd.to_numeric(df_sncf['CODE_STIF_ARRET'].str.extract('(\\d+)')[0].astype(float), downcast = 'unsigned')\n",
    "\n",
    "# Les Identifiants arrêt sont également des entiers naturels (initialement au format 'float')\n",
    "df_sncf['ID_REFA_LDA'] = pd.to_numeric(df_sncf['ID_REFA_LDA'], downcast = 'unsigned')"
   ]
  },
  {
   "cell_type": "code",
   "execution_count": 32,
   "metadata": {},
   "outputs": [
    {
     "data": {
      "text/plain": [
       "JOUR               datetime64[ns]\n",
       "CODE_STIF_TRNS             uint16\n",
       "CODE_STIF_RES             float64\n",
       "CODE_STIF_ARRET           float64\n",
       "LIBELLE_ARRET              object\n",
       "ID_REFA_LDA               float64\n",
       "CATEGORIE_TITRE            object\n",
       "NB_VALD                    object\n",
       "DayOfWeek                   uint8\n",
       "Month                       uint8\n",
       "dtype: object"
      ]
     },
     "execution_count": 32,
     "metadata": {},
     "output_type": "execute_result"
    }
   ],
   "source": [
    "# Vérification des formats\n",
    "df_sncf.dtypes"
   ]
  },
  {
   "cell_type": "code",
   "execution_count": 33,
   "metadata": {},
   "outputs": [
    {
     "data": {
      "text/html": [
       "<div>\n",
       "<style scoped>\n",
       "    .dataframe tbody tr th:only-of-type {\n",
       "        vertical-align: middle;\n",
       "    }\n",
       "\n",
       "    .dataframe tbody tr th {\n",
       "        vertical-align: top;\n",
       "    }\n",
       "\n",
       "    .dataframe thead th {\n",
       "        text-align: right;\n",
       "    }\n",
       "</style>\n",
       "<table border=\"1\" class=\"dataframe\">\n",
       "  <thead>\n",
       "    <tr style=\"text-align: right;\">\n",
       "      <th></th>\n",
       "      <th>JOUR</th>\n",
       "      <th>CODE_STIF_TRNS</th>\n",
       "      <th>CODE_STIF_RES</th>\n",
       "      <th>CODE_STIF_ARRET</th>\n",
       "      <th>LIBELLE_ARRET</th>\n",
       "      <th>ID_REFA_LDA</th>\n",
       "      <th>CATEGORIE_TITRE</th>\n",
       "      <th>NB_VALD</th>\n",
       "      <th>DayOfWeek</th>\n",
       "      <th>Month</th>\n",
       "    </tr>\n",
       "  </thead>\n",
       "  <tbody>\n",
       "    <tr>\n",
       "      <th>Total Missing Values</th>\n",
       "      <td>0.0</td>\n",
       "      <td>0.0</td>\n",
       "      <td>772.000000</td>\n",
       "      <td>772.000000</td>\n",
       "      <td>0.0</td>\n",
       "      <td>43848.000000</td>\n",
       "      <td>0.0</td>\n",
       "      <td>0.0</td>\n",
       "      <td>0.0</td>\n",
       "      <td>0.0</td>\n",
       "    </tr>\n",
       "    <tr>\n",
       "      <th>% Missing Values</th>\n",
       "      <td>0.0</td>\n",
       "      <td>0.0</td>\n",
       "      <td>0.092439</td>\n",
       "      <td>0.092439</td>\n",
       "      <td>0.0</td>\n",
       "      <td>5.250371</td>\n",
       "      <td>0.0</td>\n",
       "      <td>0.0</td>\n",
       "      <td>0.0</td>\n",
       "      <td>0.0</td>\n",
       "    </tr>\n",
       "  </tbody>\n",
       "</table>\n",
       "</div>"
      ],
      "text/plain": [
       "                      JOUR  CODE_STIF_TRNS  CODE_STIF_RES  CODE_STIF_ARRET  \\\n",
       "Total Missing Values   0.0             0.0     772.000000       772.000000   \n",
       "% Missing Values       0.0             0.0       0.092439         0.092439   \n",
       "\n",
       "                      LIBELLE_ARRET   ID_REFA_LDA  CATEGORIE_TITRE  NB_VALD  \\\n",
       "Total Missing Values            0.0  43848.000000              0.0      0.0   \n",
       "% Missing Values                0.0      5.250371              0.0      0.0   \n",
       "\n",
       "                      DayOfWeek  Month  \n",
       "Total Missing Values        0.0    0.0  \n",
       "% Missing Values            0.0    0.0  "
      ]
     },
     "execution_count": 33,
     "metadata": {},
     "output_type": "execute_result"
    }
   ],
   "source": [
    "# La présence de valeurs non numériques dans les données empêche de caster les données de type float vers le type unsigned int\n",
    "# Evaluons les données manquantes\n",
    "pd.DataFrame(\n",
    "    [df_sncf.isnull().sum(), (df_sncf.isnull().sum()/df_sncf.shape[0]) * 100],\n",
    "    index = ['Total Missing Values', '% Missing Values']\n",
    ")"
   ]
  },
  {
   "cell_type": "raw",
   "metadata": {},
   "source": [
    "Les données manquantes concernant les codes STIF sont très minoritaires, et les identifiants IDF Mobilités manquent à 5%\n",
    "Dans le cas où les données sont très minoritaires par rapport à la taille du dataset, on peut se séparer de ces données.\n",
    "On ne prend pas le risque de perdre beaucoup d'informations"
   ]
  },
  {
   "cell_type": "code",
   "execution_count": 34,
   "metadata": {},
   "outputs": [],
   "source": [
    "df_sncf.dropna(subset = ['CODE_STIF_RES', 'CODE_STIF_ARRET'], inplace = True)"
   ]
  },
  {
   "cell_type": "raw",
   "metadata": {},
   "source": [
    "On peut également se poser la question de la redondance d'information au sein des données (i.e. deux features porteuses de la même information)\n",
    "Par exemple, les features CODE_STIF_ARRET et ID_REFA_LDA font référence à la même chose, à savoir la référence d'un arrêt/station\n",
    "Ainsi, on peut ne conserver qu'une seule des deux données\n",
    "Pour des questions de performance, on gardera CODE_STIF_ARRET car les codes sont plus courts donc prennent moins de place en mémoire et ID_REFA_LDA comporte 5% de données manquantes"
   ]
  },
  {
   "cell_type": "code",
   "execution_count": 35,
   "metadata": {},
   "outputs": [],
   "source": [
    "# Il y a toutefois quelques exceptions, certains ID_REFA_LDA sont associés à plusieurs CODE_STIF_ARRET\n",
    "redundancy_df = df_sncf[['CODE_STIF_ARRET', 'ID_REFA_LDA']].groupby(['ID_REFA_LDA']).nunique()\n",
    "#print(redundancy_df.loc[~((redundancy_df['CODE_STIF_ARRET'] == 1) & (redundancy_df['ID_REFA_LDA'] == 1))])\n",
    "\n",
    "# Il y a également quelques CODE_STIF_ARRET qui n'ont pas de ID_REFA_LDA associés\n",
    "redundancy_df = df_sncf[['ID_REFA_LDA', 'CODE_STIF_ARRET']].groupby(['CODE_STIF_ARRET']).nunique()\n",
    "#print(redundancy_df.loc[~((redundancy_df['CODE_STIF_ARRET'] == 1) & (redundancy_df['ID_REFA_LDA'] == 1))])\n",
    "\n",
    "# Ces exemples sont assez minoritaires dans l'ensemble des valeurs possibles, on va donc considérer que les CODE_STIF_ARRET et\n",
    "# ID_REFA_LDA sont redondantes\n",
    "df_sncf = df_sncf.drop('ID_REFA_LDA', axis = 1)"
   ]
  },
  {
   "cell_type": "code",
   "execution_count": 36,
   "metadata": {},
   "outputs": [
    {
     "data": {
      "text/plain": [
       "JOUR               datetime64[ns]\n",
       "CODE_STIF_TRNS             uint16\n",
       "CODE_STIF_RES              uint16\n",
       "CODE_STIF_ARRET            uint16\n",
       "LIBELLE_ARRET              object\n",
       "CATEGORIE_TITRE            object\n",
       "NB_VALD                    object\n",
       "DayOfWeek                   uint8\n",
       "Month                       uint8\n",
       "dtype: object"
      ]
     },
     "execution_count": 36,
     "metadata": {},
     "output_type": "execute_result"
    }
   ],
   "source": [
    "df_sncf['CODE_STIF_RES'] = pd.to_numeric(df_sncf['CODE_STIF_RES'], downcast = 'unsigned')\n",
    "df_sncf['CODE_STIF_ARRET'] = pd.to_numeric(df_sncf['CODE_STIF_ARRET'], downcast = 'unsigned')\n",
    "df_sncf.dtypes"
   ]
  },
  {
   "cell_type": "code",
   "execution_count": 37,
   "metadata": {},
   "outputs": [
    {
     "name": "stdout",
     "output_type": "stream",
     "text": [
      "161244\n"
     ]
    }
   ],
   "source": [
    "# Enfin, il s'agit de traiter la donnée NB_VALD, composée entièrement d'entiers naturels, à l'exception des échantillons pour\n",
    "# lesquels la valeur est inférieure (stricte) à 5, auquel cas il est inscrit 'Moins de 5'. Il ne s'agit pas de valeurs\n",
    "# minoritaires\n",
    "print(df_sncf.loc[df_sncf['NB_VALD'] == 'Moins de 5'].shape[0])"
   ]
  },
  {
   "cell_type": "code",
   "execution_count": 38,
   "metadata": {},
   "outputs": [],
   "source": [
    "# Arbitrairement, on va donc affecter à ces données la valeur 4, pour indiquer qu'il s'agit d'un pass avec moins de 5 validations\n",
    "df_sncf['NB_VALD'] = df_sncf['NB_VALD'].apply(lambda x : 3 if x == 'Moins de 5' else x)"
   ]
  },
  {
   "cell_type": "code",
   "execution_count": 39,
   "metadata": {
    "scrolled": true
   },
   "outputs": [
    {
     "data": {
      "text/plain": [
       "JOUR               datetime64[ns]\n",
       "CODE_STIF_TRNS             uint16\n",
       "CODE_STIF_RES              uint16\n",
       "CODE_STIF_ARRET            uint16\n",
       "LIBELLE_ARRET              object\n",
       "CATEGORIE_TITRE            object\n",
       "NB_VALD                    uint32\n",
       "DayOfWeek                   uint8\n",
       "Month                       uint8\n",
       "dtype: object"
      ]
     },
     "execution_count": 39,
     "metadata": {},
     "output_type": "execute_result"
    }
   ],
   "source": [
    "df_sncf['NB_VALD'] = pd.to_numeric(df_sncf['NB_VALD'], downcast = 'unsigned')\n",
    "df_sncf.dtypes"
   ]
  },
  {
   "cell_type": "raw",
   "metadata": {},
   "source": [
    "Parfois, la corrélation entre les différentes features n'est pas forcément évidente. On peut alors utiliser la méthode corr() de Pandas, qui applique la corrélation de Pearson sur tout le DataFrame"
   ]
  },
  {
   "cell_type": "code",
   "execution_count": 40,
   "metadata": {
    "scrolled": true
   },
   "outputs": [
    {
     "data": {
      "text/html": [
       "<style  type=\"text/css\" >\n",
       "    #T_c116b107_299a_11eb_a939_409f382e326crow0_col0 {\n",
       "            color :  red;\n",
       "        }    #T_c116b107_299a_11eb_a939_409f382e326crow0_col1 {\n",
       "            color :  red;\n",
       "        }    #T_c116b107_299a_11eb_a939_409f382e326crow0_col2 {\n",
       "            color :  black;\n",
       "        }    #T_c116b107_299a_11eb_a939_409f382e326crow0_col3 {\n",
       "            color :  black;\n",
       "        }    #T_c116b107_299a_11eb_a939_409f382e326crow0_col4 {\n",
       "            color :  black;\n",
       "        }    #T_c116b107_299a_11eb_a939_409f382e326crow0_col5 {\n",
       "            color :  black;\n",
       "        }    #T_c116b107_299a_11eb_a939_409f382e326crow1_col0 {\n",
       "            color :  red;\n",
       "        }    #T_c116b107_299a_11eb_a939_409f382e326crow1_col1 {\n",
       "            color :  red;\n",
       "        }    #T_c116b107_299a_11eb_a939_409f382e326crow1_col2 {\n",
       "            color :  black;\n",
       "        }    #T_c116b107_299a_11eb_a939_409f382e326crow1_col3 {\n",
       "            color :  black;\n",
       "        }    #T_c116b107_299a_11eb_a939_409f382e326crow1_col4 {\n",
       "            color :  black;\n",
       "        }    #T_c116b107_299a_11eb_a939_409f382e326crow1_col5 {\n",
       "            color :  black;\n",
       "        }    #T_c116b107_299a_11eb_a939_409f382e326crow2_col0 {\n",
       "            color :  black;\n",
       "        }    #T_c116b107_299a_11eb_a939_409f382e326crow2_col1 {\n",
       "            color :  black;\n",
       "        }    #T_c116b107_299a_11eb_a939_409f382e326crow2_col2 {\n",
       "            color :  red;\n",
       "        }    #T_c116b107_299a_11eb_a939_409f382e326crow2_col3 {\n",
       "            color :  black;\n",
       "        }    #T_c116b107_299a_11eb_a939_409f382e326crow2_col4 {\n",
       "            color :  black;\n",
       "        }    #T_c116b107_299a_11eb_a939_409f382e326crow2_col5 {\n",
       "            color :  black;\n",
       "        }    #T_c116b107_299a_11eb_a939_409f382e326crow3_col0 {\n",
       "            color :  black;\n",
       "        }    #T_c116b107_299a_11eb_a939_409f382e326crow3_col1 {\n",
       "            color :  black;\n",
       "        }    #T_c116b107_299a_11eb_a939_409f382e326crow3_col2 {\n",
       "            color :  black;\n",
       "        }    #T_c116b107_299a_11eb_a939_409f382e326crow3_col3 {\n",
       "            color :  red;\n",
       "        }    #T_c116b107_299a_11eb_a939_409f382e326crow3_col4 {\n",
       "            color :  black;\n",
       "        }    #T_c116b107_299a_11eb_a939_409f382e326crow3_col5 {\n",
       "            color :  black;\n",
       "        }    #T_c116b107_299a_11eb_a939_409f382e326crow4_col0 {\n",
       "            color :  black;\n",
       "        }    #T_c116b107_299a_11eb_a939_409f382e326crow4_col1 {\n",
       "            color :  black;\n",
       "        }    #T_c116b107_299a_11eb_a939_409f382e326crow4_col2 {\n",
       "            color :  black;\n",
       "        }    #T_c116b107_299a_11eb_a939_409f382e326crow4_col3 {\n",
       "            color :  black;\n",
       "        }    #T_c116b107_299a_11eb_a939_409f382e326crow4_col4 {\n",
       "            color :  red;\n",
       "        }    #T_c116b107_299a_11eb_a939_409f382e326crow4_col5 {\n",
       "            color :  black;\n",
       "        }    #T_c116b107_299a_11eb_a939_409f382e326crow5_col0 {\n",
       "            color :  black;\n",
       "        }    #T_c116b107_299a_11eb_a939_409f382e326crow5_col1 {\n",
       "            color :  black;\n",
       "        }    #T_c116b107_299a_11eb_a939_409f382e326crow5_col2 {\n",
       "            color :  black;\n",
       "        }    #T_c116b107_299a_11eb_a939_409f382e326crow5_col3 {\n",
       "            color :  black;\n",
       "        }    #T_c116b107_299a_11eb_a939_409f382e326crow5_col4 {\n",
       "            color :  black;\n",
       "        }    #T_c116b107_299a_11eb_a939_409f382e326crow5_col5 {\n",
       "            color :  red;\n",
       "        }</style><table id=\"T_c116b107_299a_11eb_a939_409f382e326c\" ><thead>    <tr>        <th class=\"blank level0\" ></th>        <th class=\"col_heading level0 col0\" >CODE_STIF_TRNS</th>        <th class=\"col_heading level0 col1\" >CODE_STIF_RES</th>        <th class=\"col_heading level0 col2\" >CODE_STIF_ARRET</th>        <th class=\"col_heading level0 col3\" >NB_VALD</th>        <th class=\"col_heading level0 col4\" >DayOfWeek</th>        <th class=\"col_heading level0 col5\" >Month</th>    </tr></thead><tbody>\n",
       "                <tr>\n",
       "                        <th id=\"T_c116b107_299a_11eb_a939_409f382e326clevel0_row0\" class=\"row_heading level0 row0\" >CODE_STIF_TRNS</th>\n",
       "                        <td id=\"T_c116b107_299a_11eb_a939_409f382e326crow0_col0\" class=\"data row0 col0\" >1.000000</td>\n",
       "                        <td id=\"T_c116b107_299a_11eb_a939_409f382e326crow0_col1\" class=\"data row0 col1\" >0.998813</td>\n",
       "                        <td id=\"T_c116b107_299a_11eb_a939_409f382e326crow0_col2\" class=\"data row0 col2\" >0.167322</td>\n",
       "                        <td id=\"T_c116b107_299a_11eb_a939_409f382e326crow0_col3\" class=\"data row0 col3\" >0.068002</td>\n",
       "                        <td id=\"T_c116b107_299a_11eb_a939_409f382e326crow0_col4\" class=\"data row0 col4\" >0.024506</td>\n",
       "                        <td id=\"T_c116b107_299a_11eb_a939_409f382e326crow0_col5\" class=\"data row0 col5\" >0.013018</td>\n",
       "            </tr>\n",
       "            <tr>\n",
       "                        <th id=\"T_c116b107_299a_11eb_a939_409f382e326clevel0_row1\" class=\"row_heading level0 row1\" >CODE_STIF_RES</th>\n",
       "                        <td id=\"T_c116b107_299a_11eb_a939_409f382e326crow1_col0\" class=\"data row1 col0\" >0.998813</td>\n",
       "                        <td id=\"T_c116b107_299a_11eb_a939_409f382e326crow1_col1\" class=\"data row1 col1\" >1.000000</td>\n",
       "                        <td id=\"T_c116b107_299a_11eb_a939_409f382e326crow1_col2\" class=\"data row1 col2\" >0.165064</td>\n",
       "                        <td id=\"T_c116b107_299a_11eb_a939_409f382e326crow1_col3\" class=\"data row1 col3\" >0.068645</td>\n",
       "                        <td id=\"T_c116b107_299a_11eb_a939_409f382e326crow1_col4\" class=\"data row1 col4\" >0.024576</td>\n",
       "                        <td id=\"T_c116b107_299a_11eb_a939_409f382e326crow1_col5\" class=\"data row1 col5\" >0.013338</td>\n",
       "            </tr>\n",
       "            <tr>\n",
       "                        <th id=\"T_c116b107_299a_11eb_a939_409f382e326clevel0_row2\" class=\"row_heading level0 row2\" >CODE_STIF_ARRET</th>\n",
       "                        <td id=\"T_c116b107_299a_11eb_a939_409f382e326crow2_col0\" class=\"data row2 col0\" >0.167322</td>\n",
       "                        <td id=\"T_c116b107_299a_11eb_a939_409f382e326crow2_col1\" class=\"data row2 col1\" >0.165064</td>\n",
       "                        <td id=\"T_c116b107_299a_11eb_a939_409f382e326crow2_col2\" class=\"data row2 col2\" >1.000000</td>\n",
       "                        <td id=\"T_c116b107_299a_11eb_a939_409f382e326crow2_col3\" class=\"data row2 col3\" >0.033046</td>\n",
       "                        <td id=\"T_c116b107_299a_11eb_a939_409f382e326crow2_col4\" class=\"data row2 col4\" >0.001413</td>\n",
       "                        <td id=\"T_c116b107_299a_11eb_a939_409f382e326crow2_col5\" class=\"data row2 col5\" >0.000826</td>\n",
       "            </tr>\n",
       "            <tr>\n",
       "                        <th id=\"T_c116b107_299a_11eb_a939_409f382e326clevel0_row3\" class=\"row_heading level0 row3\" >NB_VALD</th>\n",
       "                        <td id=\"T_c116b107_299a_11eb_a939_409f382e326crow3_col0\" class=\"data row3 col0\" >0.068002</td>\n",
       "                        <td id=\"T_c116b107_299a_11eb_a939_409f382e326crow3_col1\" class=\"data row3 col1\" >0.068645</td>\n",
       "                        <td id=\"T_c116b107_299a_11eb_a939_409f382e326crow3_col2\" class=\"data row3 col2\" >0.033046</td>\n",
       "                        <td id=\"T_c116b107_299a_11eb_a939_409f382e326crow3_col3\" class=\"data row3 col3\" >1.000000</td>\n",
       "                        <td id=\"T_c116b107_299a_11eb_a939_409f382e326crow3_col4\" class=\"data row3 col4\" >0.044314</td>\n",
       "                        <td id=\"T_c116b107_299a_11eb_a939_409f382e326crow3_col5\" class=\"data row3 col5\" >0.083494</td>\n",
       "            </tr>\n",
       "            <tr>\n",
       "                        <th id=\"T_c116b107_299a_11eb_a939_409f382e326clevel0_row4\" class=\"row_heading level0 row4\" >DayOfWeek</th>\n",
       "                        <td id=\"T_c116b107_299a_11eb_a939_409f382e326crow4_col0\" class=\"data row4 col0\" >0.024506</td>\n",
       "                        <td id=\"T_c116b107_299a_11eb_a939_409f382e326crow4_col1\" class=\"data row4 col1\" >0.024576</td>\n",
       "                        <td id=\"T_c116b107_299a_11eb_a939_409f382e326crow4_col2\" class=\"data row4 col2\" >0.001413</td>\n",
       "                        <td id=\"T_c116b107_299a_11eb_a939_409f382e326crow4_col3\" class=\"data row4 col3\" >0.044314</td>\n",
       "                        <td id=\"T_c116b107_299a_11eb_a939_409f382e326crow4_col4\" class=\"data row4 col4\" >1.000000</td>\n",
       "                        <td id=\"T_c116b107_299a_11eb_a939_409f382e326crow4_col5\" class=\"data row4 col5\" >0.014686</td>\n",
       "            </tr>\n",
       "            <tr>\n",
       "                        <th id=\"T_c116b107_299a_11eb_a939_409f382e326clevel0_row5\" class=\"row_heading level0 row5\" >Month</th>\n",
       "                        <td id=\"T_c116b107_299a_11eb_a939_409f382e326crow5_col0\" class=\"data row5 col0\" >0.013018</td>\n",
       "                        <td id=\"T_c116b107_299a_11eb_a939_409f382e326crow5_col1\" class=\"data row5 col1\" >0.013338</td>\n",
       "                        <td id=\"T_c116b107_299a_11eb_a939_409f382e326crow5_col2\" class=\"data row5 col2\" >0.000826</td>\n",
       "                        <td id=\"T_c116b107_299a_11eb_a939_409f382e326crow5_col3\" class=\"data row5 col3\" >0.083494</td>\n",
       "                        <td id=\"T_c116b107_299a_11eb_a939_409f382e326crow5_col4\" class=\"data row5 col4\" >0.014686</td>\n",
       "                        <td id=\"T_c116b107_299a_11eb_a939_409f382e326crow5_col5\" class=\"data row5 col5\" >1.000000</td>\n",
       "            </tr>\n",
       "    </tbody></table>"
      ],
      "text/plain": [
       "<pandas.io.formats.style.Styler at 0x25d6a90f2b0>"
      ]
     },
     "execution_count": 40,
     "metadata": {},
     "output_type": "execute_result"
    }
   ],
   "source": [
    "df_sncf.corr().abs().style.applymap(lambda val : 'color : red' if val > 0.9 else 'color : black')"
   ]
  },
  {
   "cell_type": "code",
   "execution_count": 41,
   "metadata": {},
   "outputs": [],
   "source": [
    "# Les features CODE_STIF_TRNS et CODE_STIF_RES sont corrélées à plus de 99%, elles sont donc porteuses de la même information\n",
    "# On va donc conserver une seule de ces deux données d'entrée.\n",
    "df_sncf = df_sncf.drop('CODE_STIF_RES', axis = 1)"
   ]
  },
  {
   "cell_type": "code",
   "execution_count": 42,
   "metadata": {},
   "outputs": [
    {
     "data": {
      "text/html": [
       "<div>\n",
       "<style scoped>\n",
       "    .dataframe tbody tr th:only-of-type {\n",
       "        vertical-align: middle;\n",
       "    }\n",
       "\n",
       "    .dataframe tbody tr th {\n",
       "        vertical-align: top;\n",
       "    }\n",
       "\n",
       "    .dataframe thead th {\n",
       "        text-align: right;\n",
       "    }\n",
       "</style>\n",
       "<table border=\"1\" class=\"dataframe\">\n",
       "  <thead>\n",
       "    <tr style=\"text-align: right;\">\n",
       "      <th></th>\n",
       "      <th>JOUR</th>\n",
       "      <th>CODE_STIF_TRNS</th>\n",
       "      <th>CODE_STIF_ARRET</th>\n",
       "      <th>LIBELLE_ARRET</th>\n",
       "      <th>CATEGORIE_TITRE</th>\n",
       "      <th>NB_VALD</th>\n",
       "      <th>DayOfWeek</th>\n",
       "      <th>Month</th>\n",
       "    </tr>\n",
       "  </thead>\n",
       "  <tbody>\n",
       "    <tr>\n",
       "      <th>436514</th>\n",
       "      <td>2020-01-01</td>\n",
       "      <td>100</td>\n",
       "      <td>499</td>\n",
       "      <td>MAISONS-ALFORT-LES JUILLIOTTES</td>\n",
       "      <td>AMETHYSTE</td>\n",
       "      <td>17</td>\n",
       "      <td>2</td>\n",
       "      <td>1</td>\n",
       "    </tr>\n",
       "    <tr>\n",
       "      <th>103086</th>\n",
       "      <td>2020-01-01</td>\n",
       "      <td>800</td>\n",
       "      <td>553</td>\n",
       "      <td>MONTFORT-L'AMAURY-MERE</td>\n",
       "      <td>NAVIGO</td>\n",
       "      <td>10</td>\n",
       "      <td>2</td>\n",
       "      <td>1</td>\n",
       "    </tr>\n",
       "    <tr>\n",
       "      <th>103084</th>\n",
       "      <td>2020-01-01</td>\n",
       "      <td>800</td>\n",
       "      <td>538</td>\n",
       "      <td>MEUDON</td>\n",
       "      <td>NAVIGO</td>\n",
       "      <td>46</td>\n",
       "      <td>2</td>\n",
       "      <td>1</td>\n",
       "    </tr>\n",
       "    <tr>\n",
       "      <th>103081</th>\n",
       "      <td>2020-01-01</td>\n",
       "      <td>800</td>\n",
       "      <td>538</td>\n",
       "      <td>MEUDON</td>\n",
       "      <td>AMETHYSTE</td>\n",
       "      <td>3</td>\n",
       "      <td>2</td>\n",
       "      <td>1</td>\n",
       "    </tr>\n",
       "    <tr>\n",
       "      <th>162024</th>\n",
       "      <td>2020-01-01</td>\n",
       "      <td>810</td>\n",
       "      <td>904</td>\n",
       "      <td>VILLEPARISIS-MITRY-LE-NEUF</td>\n",
       "      <td>NAVIGO</td>\n",
       "      <td>203</td>\n",
       "      <td>2</td>\n",
       "      <td>1</td>\n",
       "    </tr>\n",
       "    <tr>\n",
       "      <th>...</th>\n",
       "      <td>...</td>\n",
       "      <td>...</td>\n",
       "      <td>...</td>\n",
       "      <td>...</td>\n",
       "      <td>...</td>\n",
       "      <td>...</td>\n",
       "      <td>...</td>\n",
       "      <td>...</td>\n",
       "    </tr>\n",
       "    <tr>\n",
       "      <th>722862</th>\n",
       "      <td>2020-06-30</td>\n",
       "      <td>800</td>\n",
       "      <td>31</td>\n",
       "      <td>ATHIS-MONS</td>\n",
       "      <td>NAVIGO JOUR</td>\n",
       "      <td>8</td>\n",
       "      <td>1</td>\n",
       "      <td>6</td>\n",
       "    </tr>\n",
       "    <tr>\n",
       "      <th>722867</th>\n",
       "      <td>2020-06-30</td>\n",
       "      <td>800</td>\n",
       "      <td>326</td>\n",
       "      <td>GARE DE GENNEVILLIERS</td>\n",
       "      <td>FGT</td>\n",
       "      <td>40</td>\n",
       "      <td>1</td>\n",
       "      <td>6</td>\n",
       "    </tr>\n",
       "    <tr>\n",
       "      <th>722872</th>\n",
       "      <td>2020-06-30</td>\n",
       "      <td>800</td>\n",
       "      <td>335</td>\n",
       "      <td>GRAVIGNY-BALIZY</td>\n",
       "      <td>?</td>\n",
       "      <td>3</td>\n",
       "      <td>1</td>\n",
       "      <td>6</td>\n",
       "    </tr>\n",
       "    <tr>\n",
       "      <th>722802</th>\n",
       "      <td>2020-06-30</td>\n",
       "      <td>800</td>\n",
       "      <td>179</td>\n",
       "      <td>CHEMIN D'ANTONY</td>\n",
       "      <td>?</td>\n",
       "      <td>3</td>\n",
       "      <td>1</td>\n",
       "      <td>6</td>\n",
       "    </tr>\n",
       "    <tr>\n",
       "      <th>272929</th>\n",
       "      <td>2020-06-30</td>\n",
       "      <td>100</td>\n",
       "      <td>601</td>\n",
       "      <td>NOTRE-DAME-DES-CHAMPS</td>\n",
       "      <td>NON DEFINI</td>\n",
       "      <td>21</td>\n",
       "      <td>1</td>\n",
       "      <td>6</td>\n",
       "    </tr>\n",
       "  </tbody>\n",
       "</table>\n",
       "<p>834369 rows × 8 columns</p>\n",
       "</div>"
      ],
      "text/plain": [
       "             JOUR  CODE_STIF_TRNS  CODE_STIF_ARRET  \\\n",
       "436514 2020-01-01             100              499   \n",
       "103086 2020-01-01             800              553   \n",
       "103084 2020-01-01             800              538   \n",
       "103081 2020-01-01             800              538   \n",
       "162024 2020-01-01             810              904   \n",
       "...           ...             ...              ...   \n",
       "722862 2020-06-30             800               31   \n",
       "722867 2020-06-30             800              326   \n",
       "722872 2020-06-30             800              335   \n",
       "722802 2020-06-30             800              179   \n",
       "272929 2020-06-30             100              601   \n",
       "\n",
       "                         LIBELLE_ARRET CATEGORIE_TITRE  NB_VALD  DayOfWeek  \\\n",
       "436514  MAISONS-ALFORT-LES JUILLIOTTES       AMETHYSTE       17          2   \n",
       "103086          MONTFORT-L'AMAURY-MERE          NAVIGO       10          2   \n",
       "103084                          MEUDON          NAVIGO       46          2   \n",
       "103081                          MEUDON       AMETHYSTE        3          2   \n",
       "162024      VILLEPARISIS-MITRY-LE-NEUF          NAVIGO      203          2   \n",
       "...                                ...             ...      ...        ...   \n",
       "722862                      ATHIS-MONS     NAVIGO JOUR        8          1   \n",
       "722867           GARE DE GENNEVILLIERS             FGT       40          1   \n",
       "722872                 GRAVIGNY-BALIZY               ?        3          1   \n",
       "722802                 CHEMIN D'ANTONY               ?        3          1   \n",
       "272929           NOTRE-DAME-DES-CHAMPS      NON DEFINI       21          1   \n",
       "\n",
       "        Month  \n",
       "436514      1  \n",
       "103086      1  \n",
       "103084      1  \n",
       "103081      1  \n",
       "162024      1  \n",
       "...       ...  \n",
       "722862      6  \n",
       "722867      6  \n",
       "722872      6  \n",
       "722802      6  \n",
       "272929      6  \n",
       "\n",
       "[834369 rows x 8 columns]"
      ]
     },
     "execution_count": 42,
     "metadata": {},
     "output_type": "execute_result"
    }
   ],
   "source": [
    "# La phase de pré-traitement et de nettoyage des données est à présent terminée, et nous pouvons commencer notre analyse à\n",
    "# partir du dataset suivant\n",
    "df_sncf"
   ]
  },
  {
   "cell_type": "markdown",
   "metadata": {},
   "source": [
    "## Question : Quelles sont les 20 premières stations en terme de validations ?"
   ]
  },
  {
   "cell_type": "code",
   "execution_count": 43,
   "metadata": {},
   "outputs": [
    {
     "data": {
      "text/html": [
       "<div>\n",
       "<style scoped>\n",
       "    .dataframe tbody tr th:only-of-type {\n",
       "        vertical-align: middle;\n",
       "    }\n",
       "\n",
       "    .dataframe tbody tr th {\n",
       "        vertical-align: top;\n",
       "    }\n",
       "\n",
       "    .dataframe thead th {\n",
       "        text-align: right;\n",
       "    }\n",
       "</style>\n",
       "<table border=\"1\" class=\"dataframe\">\n",
       "  <thead>\n",
       "    <tr style=\"text-align: right;\">\n",
       "      <th></th>\n",
       "      <th>NB_VALD</th>\n",
       "    </tr>\n",
       "    <tr>\n",
       "      <th>LIBELLE_ARRET</th>\n",
       "      <th></th>\n",
       "    </tr>\n",
       "  </thead>\n",
       "  <tbody>\n",
       "    <tr>\n",
       "      <th>SAINT-LAZARE</th>\n",
       "      <td>17775377</td>\n",
       "    </tr>\n",
       "    <tr>\n",
       "      <th>GARE DU NORD</th>\n",
       "      <td>7538501</td>\n",
       "    </tr>\n",
       "    <tr>\n",
       "      <th>MONTPARNASSE</th>\n",
       "      <td>6726059</td>\n",
       "    </tr>\n",
       "    <tr>\n",
       "      <th>GARE DE L'EST</th>\n",
       "      <td>5842491</td>\n",
       "    </tr>\n",
       "    <tr>\n",
       "      <th>LA DEFENSE-GRANDE ARCHE</th>\n",
       "      <td>5413369</td>\n",
       "    </tr>\n",
       "    <tr>\n",
       "      <th>GARE DE LYON</th>\n",
       "      <td>4077208</td>\n",
       "    </tr>\n",
       "    <tr>\n",
       "      <th>BIBLIOTHEQUE FRANCOIS MITTERRAND</th>\n",
       "      <td>3250739</td>\n",
       "    </tr>\n",
       "    <tr>\n",
       "      <th>LES HALLES</th>\n",
       "      <td>3033970</td>\n",
       "    </tr>\n",
       "    <tr>\n",
       "      <th>CHATELET-LES HALLES</th>\n",
       "      <td>2866968</td>\n",
       "    </tr>\n",
       "    <tr>\n",
       "      <th>BASTILLE</th>\n",
       "      <td>2433825</td>\n",
       "    </tr>\n",
       "    <tr>\n",
       "      <th>REPUBLIQUE</th>\n",
       "      <td>2286419</td>\n",
       "    </tr>\n",
       "    <tr>\n",
       "      <th>CHATELET</th>\n",
       "      <td>2284075</td>\n",
       "    </tr>\n",
       "    <tr>\n",
       "      <th>AUSTERLITZ</th>\n",
       "      <td>2192663</td>\n",
       "    </tr>\n",
       "    <tr>\n",
       "      <th>PORTE MAILLOT</th>\n",
       "      <td>2105592</td>\n",
       "    </tr>\n",
       "    <tr>\n",
       "      <th>HOTEL DE VILLE</th>\n",
       "      <td>2100091</td>\n",
       "    </tr>\n",
       "    <tr>\n",
       "      <th>OLYMPIADES</th>\n",
       "      <td>2094688</td>\n",
       "    </tr>\n",
       "    <tr>\n",
       "      <th>ESPLANADE DE LA DEFENSE</th>\n",
       "      <td>2031904</td>\n",
       "    </tr>\n",
       "    <tr>\n",
       "      <th>PORTE DE VINCENNES</th>\n",
       "      <td>2010590</td>\n",
       "    </tr>\n",
       "    <tr>\n",
       "      <th>NATION</th>\n",
       "      <td>1995224</td>\n",
       "    </tr>\n",
       "    <tr>\n",
       "      <th>PLACE D'ITALIE</th>\n",
       "      <td>1913190</td>\n",
       "    </tr>\n",
       "  </tbody>\n",
       "</table>\n",
       "</div>"
      ],
      "text/plain": [
       "                                   NB_VALD\n",
       "LIBELLE_ARRET                             \n",
       "SAINT-LAZARE                      17775377\n",
       "GARE DU NORD                       7538501\n",
       "MONTPARNASSE                       6726059\n",
       "GARE DE L'EST                      5842491\n",
       "LA DEFENSE-GRANDE ARCHE            5413369\n",
       "GARE DE LYON                       4077208\n",
       "BIBLIOTHEQUE FRANCOIS MITTERRAND   3250739\n",
       "LES HALLES                         3033970\n",
       "CHATELET-LES HALLES                2866968\n",
       "BASTILLE                           2433825\n",
       "REPUBLIQUE                         2286419\n",
       "CHATELET                           2284075\n",
       "AUSTERLITZ                         2192663\n",
       "PORTE MAILLOT                      2105592\n",
       "HOTEL DE VILLE                     2100091\n",
       "OLYMPIADES                         2094688\n",
       "ESPLANADE DE LA DEFENSE            2031904\n",
       "PORTE DE VINCENNES                 2010590\n",
       "NATION                             1995224\n",
       "PLACE D'ITALIE                     1913190"
      ]
     },
     "execution_count": 43,
     "metadata": {},
     "output_type": "execute_result"
    }
   ],
   "source": [
    "df_sncf_nbVal = df_sncf[['LIBELLE_ARRET', 'NB_VALD']].groupby('LIBELLE_ARRET').sum().sort_values('NB_VALD', ascending = False)\n",
    "df_sncf_nbVal.head(20)"
   ]
  },
  {
   "cell_type": "raw",
   "metadata": {},
   "source": [
    "Les 20 stations ayant le plus de validations sont donc, dans l'ordre :\n",
    "Saint-Lazare, Gare du Nord, Montparnasse, Gare de l'Est, La Défense-Grande Arche, Gare de Lyon, Bibliothèque François Mitterrand, Les Halles, Châtelet-Les Halles, Bastille, République, Châtelet, Austerlitz, Porte Maillot, Hôtel de Ville, Olympiades, Esplanade de la Défense, Porte de Vincennes, Nation et Place d'Italie"
   ]
  },
  {
   "cell_type": "markdown",
   "metadata": {},
   "source": [
    "## Question : Proposez une illustration graphique de ce classement"
   ]
  },
  {
   "cell_type": "code",
   "execution_count": 44,
   "metadata": {},
   "outputs": [
    {
     "data": {
      "image/png": "[encoded data removed]",
      "text/plain": [
       "<Figure size 1080x720 with 1 Axes>"
      ]
     },
     "metadata": {
      "needs_background": "light"
     },
     "output_type": "display_data"
    }
   ],
   "source": [
    "plt.figure(figsize = (15, 10))\n",
    "plt.barh(df_sncf_nbVal.head(20).index, df_sncf_nbVal.head(20)['NB_VALD'])\n",
    "plt.ticklabel_format(style = 'plain', axis = 'x')\n",
    "plt.title('STATIONS AVEC LE PLUS GRAND NOMBRE DE VALIDATIONS EN IDF AU 1ER SEMESTRE 2020', fontsize = 20)\n",
    "plt.xlabel('STATIONS', fontsize = 15)\n",
    "plt.ylabel('NOMBRE DE VALIDATIONS', fontsize = 15)\n",
    "plt.show()"
   ]
  },
  {
   "cell_type": "markdown",
   "metadata": {},
   "source": [
    "## Question : Proposez une classification des arrêts en vous basant sur le nombre de validations par catégorie de titre ?"
   ]
  },
  {
   "cell_type": "code",
   "execution_count": 45,
   "metadata": {},
   "outputs": [],
   "source": [
    "# Décommenter pour affichage complet des DataFrames\n",
    "#pd.set_option('display.max_rows', None)\n",
    "# Décommenter pour réinitialiser l'option d'affichage\n",
    "#pd.reset_option('display.max_rows')\n",
    "\n",
    "# Une classification des arrêts basée sur le nombre de validation par catégorie de titre est obtenue grâce à la méthode\n",
    "# 'groupby' de Pandas\n",
    "# df_classif = df_sncf[['LIBELLE_ARRET', 'NB_VALD', 'CATEGORIE_TITRE']].groupby(['LIBELLE_ARRET', 'CATEGORIE_TITRE']).sum()\n",
    "# df_classif.groupby('LIBELLE_ARRET', as_index = False).apply(lambda x : x.sort_values('NB_VALD', ascending = False))\n",
    "\n",
    "# Il peut également être intéressant de connaître la classification des arrêts basée sur la moyenne du nombre de validations\n",
    "# par catégorie de titre\n",
    "# df_classif = df_sncf[['LIBELLE_ARRET', 'NB_VALD', 'CATEGORIE_TITRE']].groupby(['LIBELLE_ARRET', 'CATEGORIE_TITRE']).mean()\n",
    "# df_classif.groupby('LIBELLE_ARRET', as_index = False).apply(lambda x : x.sort_values('NB_VALD', ascending = False))"
   ]
  },
  {
   "cell_type": "code",
   "execution_count": 46,
   "metadata": {},
   "outputs": [],
   "source": [
    "from sklearn.model_selection import train_test_split\n",
    "from sklearn.svm import SVC\n",
    "from sklearn.neighbors import KNeighborsClassifier\n",
    "from sklearn.multiclass import OneVsRestClassifier\n",
    "from sklearn.ensemble import RandomForestClassifier\n",
    "from sklearn.metrics import accuracy_score\n",
    "from sklearn.preprocessing import LabelEncoder\n",
    "from sklearn.preprocessing import StandardScaler\n",
    "\n",
    "\n",
    "# IL S'AGIT D'UTILISER DES DONNEES CATEGORIELLES : CATEGORIE_TITRE\n",
    "# Il faut donc les encoder\n",
    "# One-Hot Encoding : Adapté et pertinent lorsqu'il n'y a que peu de catégories différentes\n",
    "df_sncf = pd.concat([df_sncf.drop('CATEGORIE_TITRE', axis = 1), pd.get_dummies(df_sncf['CATEGORIE_TITRE'], prefix = 'CATEGORIE_TITRE')], axis = 1)\n",
    "\n",
    "# Label Encoding :\n",
    "# le = LabelEncoder()\n",
    "# df_sncf['CATEGORIE_TITRE'] = le.fit_transform(df_sncf['CATEGORIE_TITRE'])"
   ]
  },
  {
   "cell_type": "code",
   "execution_count": 47,
   "metadata": {},
   "outputs": [],
   "source": [
    "gb = df_sncf[['CATEGORIE_TITRE_?', 'CATEGORIE_TITRE_AMETHYSTE', 'CATEGORIE_TITRE_AUTRE TITRE', 'CATEGORIE_TITRE_FGT', 'CATEGORIE_TITRE_IMAGINE R', 'CATEGORIE_TITRE_NAVIGO', 'CATEGORIE_TITRE_NAVIGO JOUR', 'CATEGORIE_TITRE_NON DEFINI', 'CATEGORIE_TITRE_TST', 'NB_VALD', 'LIBELLE_ARRET']].groupby(['LIBELLE_ARRET'])\n",
    "blocks = [data.sample(n = 20, replace = False) for _, data in gb]\n",
    "df_sampled = pd.concat(blocks)\n",
    "df_sampled = df_sampled.sample(frac = 1)\n",
    "X = df_sampled[['CATEGORIE_TITRE_?', 'CATEGORIE_TITRE_AMETHYSTE', 'CATEGORIE_TITRE_AUTRE TITRE', 'CATEGORIE_TITRE_FGT', 'CATEGORIE_TITRE_IMAGINE R', 'CATEGORIE_TITRE_NAVIGO', 'CATEGORIE_TITRE_NAVIGO JOUR', 'CATEGORIE_TITRE_NON DEFINI', 'CATEGORIE_TITRE_TST', 'NB_VALD']]\n",
    "Y = df_sampled['LIBELLE_ARRET']\n",
    "#print(df_sampled)\n",
    "\n",
    "# Séparation du dataset\n",
    "X_train, X_test, Y_train, Y_test = train_test_split(X, Y, test_size = .20)\n",
    "# Standardisation des données\n",
    "sc = StandardScaler()\n",
    "X_train = sc.fit_transform(X_train)\n",
    "X_test = sc.transform(X_test)"
   ]
  },
  {
   "cell_type": "code",
   "execution_count": 48,
   "metadata": {},
   "outputs": [],
   "source": [
    "# Classification k-NN, SVM et Random Forest\n",
    "knnClassifier = KNeighborsClassifier(5)\n",
    "#SvClassifier = SVC(kernel = 'rbf')\n",
    "#rfClassifier = RandomForestClassifier(100)\n",
    "knnClassifier.fit(np.array(X_train), Y_train)\n",
    "\n",
    "# La classification sur un grand nombre de catégories est difficile avec un classifieur simple comme un kNN ou un SVC\n",
    "# Pour parvenir à de meilleurs résultats, on effectue une classification bi-classe sur chacune des catégories\n",
    "# Puis on agrege les résultats\n",
    "# Il s'agit d'une approche One-vs-Rest\n",
    "OvR_classifier = OneVsRestClassifier(knnClassifier)\n",
    "OvR_classifier.fit(np.array(X_train), Y_train)\n",
    "\n",
    "#Y_predict = knnClassifier.predict(X_train)\n",
    "Y_train_predict = OvR_classifier.predict(X_train)\n",
    "#Y_predict = knnClassifier.predict(X_train)\n",
    "Y_test_predict = OvR_classifier.predict(X_test)\n",
    "\n",
    "print(accuracy_score(Y_train, Y_predict))\n",
    "pd.DataFrame({'Y_train' : np.array(Y_test), 'Y_train_predict' : np.array(Y_train_predict)})\n",
    "pd.DataFrame({'Y_test' : np.array(Y_test), 'Y_test_predict' : np.array(Y_test_predict)})"
   ]
  },
  {
   "cell_type": "markdown",
   "metadata": {},
   "source": [
    "## Question : Quelles prédictions pouvez vous faire pour le nombre de validations dans les stations \"OLYMPIADES\" et \"M. MONTROUGE\" sur la plage du 24 au 30 juin ?"
   ]
  },
  {
   "cell_type": "raw",
   "metadata": {},
   "source": [
    "Il s'agit maintenant d'entraîner un modèle pour faire de la prédiction sur la colonne NB_VALD\n",
    "Comme nous cherchons à prédire une valeur entière, nous sommes confrontés à un problème de régression\n",
    "Avant de présenter les données à un modèle, il est nécessaire de les formatter pour qu'elles puissent être interprétées par le modèle"
   ]
  },
  {
   "cell_type": "raw",
   "metadata": {},
   "source": [
    "Désormais, nous disposons de l'ensemble des features à utiliser dans le cadre de notre prédiction sur NB_VALD\n",
    "Bien que ces données soient toutes numériques, il s'agit bien là de features catégorielles, il est donc nécessaire des les encoder avec la méthode appropriée\n",
    "En effet, on pourrait considérer que les données sont déjà encodées, mais les modèles utilisés pourraient mal interpréter les différentes valeurs : Par exemple, le modèle pourrait accorder plus de poids au code STIF 1134 qu'au code STIF 1006, puisque 1134 > 1006.\n",
    "\n",
    "On va donc utiliser les méthodes suivantes :\n",
    "--> L'encodage One-Hot : Il s'agit de créer une colonne par valeur possible, et d'affecter un '1' dans la colonne correspondant à la valeur courante, et '0' dans les autres\n",
    "Cette méthode est très pertinente dans le cadre de données catégorielles ne présentant qu'un petit nombre de catégories possibles.\n",
    "--> L'encodage Binary : Il s'agit ici d'encoder les valeurs sous un format binaire plutôt que décimal, et de créer n colonnes si les données sont encodées sur n bits, puis de remplir les colonnes avec les bits correspondants\n",
    "\n",
    "Le choix des bonnes approches est primordial car si l'on génère trop de colonnes, on agrandit trop la dimension du vecteur d'entrée et on rallonge le temps d'entraînement du modèle"
   ]
  },
  {
   "cell_type": "code",
   "execution_count": 49,
   "metadata": {},
   "outputs": [],
   "source": [
    "# Les features présentant un petit nombre de valeurs uniques sont : CODE_STIF_TRNS, CATEGORIE_TITRE, DayOfWeek et Month\n",
    "# print(str(len(df_sncf['CODE_STIF_TRNS'].unique())) + ' CODE_STIF_TRNS possibles : ' + str(df_sncf['CODE_STIF_TRNS'].unique()))\n",
    "# print(str(len(df_sncf['CATEGORIE_TITRE'].unique())) + ' CATEGORIE_TITRE possibles : ' + str(df_sncf['CATEGORIE_TITRE'].unique()))\n",
    "# print(str(len(df_sncf['DayOfWeek'].unique())) + ' DayOfWeek possibles : ' + str(df_sncf['DayOfWeek'].sort_values().unique()))\n",
    "# print(str(len(df_sncf['Month'].unique())) + ' Month possibles : ' + str(df_sncf['Month'].unique()))\n",
    "\n",
    "# En revanche, CODE_STIF_ARRET représente un arrêt/station parmi un grand nombre de possibilités\n",
    "# print(str(len(df_sncf['CODE_STIF_ARRET'].unique())) + ' CODE_STIF_ARRET possibles : ' + str(df_sncf['CODE_STIF_ARRET'].unique()))"
   ]
  },
  {
   "cell_type": "code",
   "execution_count": 52,
   "metadata": {},
   "outputs": [],
   "source": [
    "# On va donc utiliser une approche One-Hot pour encoder les features CODE_STIF_TRNS, CATEGORIE_TITRE, DayOfWeek et Month\n",
    "# Ceci est possible grâce à la méhode get_dummies de Pandas\n",
    "df_sncf = pd.concat([df_sncf.drop('CODE_STIF_TRNS', axis = 1), pd.get_dummies(df_sncf['CODE_STIF_TRNS'], prefix = 'CODE_STIF_TRNS')], axis = 1)\n",
    "#df_sncf = pd.concat([df_sncf.drop('CATEGORIE_TITRE', axis = 1), pd.get_dummies(df_sncf['CATEGORIE_TITRE'], prefix = 'CATEGORIE_TITRE')], axis = 1)\n",
    "df_sncf = pd.concat([df_sncf.drop('DayOfWeek', axis = 1), pd.get_dummies(df_sncf['DayOfWeek'], prefix = 'DayOfWeek')], axis = 1)\n",
    "df_sncf = pd.concat([df_sncf.drop('Month', axis = 1), pd.get_dummies(df_sncf['Month'], prefix = 'Month')], axis = 1)"
   ]
  },
  {
   "cell_type": "code",
   "execution_count": 53,
   "metadata": {},
   "outputs": [
    {
     "name": "stdout",
     "output_type": "stream",
     "text": [
      "Requirement already satisfied: category_encoders in c:\\anaconda3\\lib\\site-packages (2.2.2)\n",
      "Requirement already satisfied: scipy>=1.0.0 in c:\\anaconda3\\lib\\site-packages (from category_encoders) (1.5.0)\n",
      "Requirement already satisfied: scikit-learn>=0.20.0 in c:\\anaconda3\\lib\\site-packages (from category_encoders) (0.23.1)\n",
      "Requirement already satisfied: pandas>=0.21.1 in c:\\anaconda3\\lib\\site-packages (from category_encoders) (1.0.5)\n",
      "Requirement already satisfied: statsmodels>=0.9.0 in c:\\anaconda3\\lib\\site-packages (from category_encoders) (0.11.1)\n",
      "Requirement already satisfied: numpy>=1.14.0 in c:\\anaconda3\\lib\\site-packages (from category_encoders) (1.18.5)\n",
      "Requirement already satisfied: patsy>=0.5.1 in c:\\anaconda3\\lib\\site-packages (from category_encoders) (0.5.1)\n",
      "Requirement already satisfied: threadpoolctl>=2.0.0 in c:\\anaconda3\\lib\\site-packages (from scikit-learn>=0.20.0->category_encoders) (2.1.0)\n",
      "Requirement already satisfied: joblib>=0.11 in c:\\anaconda3\\lib\\site-packages (from scikit-learn>=0.20.0->category_encoders) (0.16.0)\n",
      "Requirement already satisfied: python-dateutil>=2.6.1 in c:\\anaconda3\\lib\\site-packages (from pandas>=0.21.1->category_encoders) (2.8.1)\n",
      "Requirement already satisfied: pytz>=2017.2 in c:\\anaconda3\\lib\\site-packages (from pandas>=0.21.1->category_encoders) (2020.1)\n",
      "Requirement already satisfied: six in c:\\anaconda3\\lib\\site-packages (from patsy>=0.5.1->category_encoders) (1.15.0)\n"
     ]
    }
   ],
   "source": [
    "# On va donc utiliser une approche Binary pour la feature CODE_STIF_ARRET\n",
    "# Ceci est possible en utilisant le LabelBinarizer de Scikit-Learn\n",
    "!pip install category_encoders\n",
    "import category_encoders as ce\n",
    "\n",
    "be = ce.BinaryEncoder(cols = ['CODE_STIF_ARRET'])\n",
    "df_sncf = pd.concat([df_sncf.drop('CODE_STIF_ARRET', axis = 1), be.fit_transform(df_sncf['CODE_STIF_ARRET'])], axis = 1)"
   ]
  },
  {
   "cell_type": "code",
   "execution_count": 54,
   "metadata": {},
   "outputs": [],
   "source": [
    "df_sncf_target = df_sncf.loc[\n",
    "    (df_sncf['JOUR'] >= '2020-06-24') &\n",
    "    (df_sncf['JOUR'] <= '2020-06-30') &\n",
    "    ((df_sncf['LIBELLE_ARRET'] == 'M. MONTROUGE') | (df_sncf['LIBELLE_ARRET'] == 'OLYMPIADES'))\n",
    "]\n",
    "df_sncf = df_sncf.loc[~(\n",
    "    (df_sncf['JOUR'] >= '2020-06-24') &\n",
    "    (df_sncf['JOUR'] <= '2020-06-30') &\n",
    "    ((df_sncf['LIBELLE_ARRET'] == 'M. MONTROUGE') | (df_sncf['LIBELLE_ARRET'] == 'OLYMPIADES'))\n",
    ")]\n",
    "df_sncf = df_sncf.drop('JOUR', axis = 1)\n",
    "df_sncf_target = df_sncf_target.drop('JOUR', axis = 1)"
   ]
  },
  {
   "cell_type": "code",
   "execution_count": 55,
   "metadata": {},
   "outputs": [],
   "source": [
    "# La donnée LIBELLE_ARRET est redondante avec CODE_STIF_ARRET\n",
    "# Une donnée comme CODE_STIF_ARRET, bien que moins intuitive pour connaître l'arrêt en question, est plus facilement manipulable\n",
    "# puisqu'elle est au format numérique\n",
    "\n",
    "df_sncf = df_sncf.drop('LIBELLE_ARRET', axis = 1)\n",
    "df_sncf_target = df_sncf_target.drop('LIBELLE_ARRET', axis = 1)"
   ]
  },
  {
   "cell_type": "code",
   "execution_count": 56,
   "metadata": {},
   "outputs": [],
   "source": [
    "# On constate qu'une regression linéaire classique ne fonctionne pas avec notre jeu de donnée\n",
    "from sklearn import linear_model\n",
    "from sklearn.model_selection import train_test_split\n",
    "from sklearn.metrics import r2_score\n",
    "\n",
    "X = df_sncf[df_sncf.columns[1:]]\n",
    "Y = df_sncf['NB_VALD']\n",
    "\n",
    "X_train, X_test, Y_train, Y_test = train_test_split(X, Y, test_size = .20, random_state = 40)\n",
    "\n",
    "regr = linear_model.LinearRegression()\n",
    "regr.fit(X_train, Y_train)\n",
    "predicted = regr.predict(X_test)\n",
    "\n",
    "r2_score(Y_test, predicted)\n",
    "pd.DataFrame([predicted, Y_test])"
   ]
  },
  {
   "cell_type": "code",
   "execution_count": 57,
   "metadata": {},
   "outputs": [],
   "source": [
    "from sklearn.model_selection import train_test_split\n",
    "from sklearn.preprocessing import PolynomialFeatures\n",
    "from sklearn.linear_model import LinearRegression\n",
    "from sklearn.linear_model import LassoCV\n",
    "from sklearn.pipeline import make_pipeline\n",
    "\n",
    "# Paramètres Lasso pour la régularisation\n",
    "lasso_eps = 0.0001\n",
    "lasso_nalpha = 20\n",
    "lasso_iter = 100\n",
    "# On considère plusieurs degrés de polynômes pour la régression\n",
    "degree_min = 2\n",
    "degree_max = 8\n",
    "# Test/train split\n",
    "X_train, X_test, y_train, y_test = train_test_split(X, Y,test_size = .20)\n",
    "\n",
    "for degree in range(degree_min,degree_max+1):\n",
    "    model = make_pipeline(PolynomialFeatures(degree, interaction_only = False), LassoCV(eps = lasso_eps,n_alphas = lasso_nalpha,max_iter=lasso_iter,\n",
    "normalize = True,cv = 5))\n",
    "    model.fit(X_train,y_train)\n",
    "    test_pred = np.array(model.predict(X_test))\n",
    "    RMSE = np.sqrt(np.sum(np.square(test_pred-y_test)))\n",
    "    test_score = model.score(X_test,y_test)"
   ]
  },
  {
   "cell_type": "code",
   "execution_count": 58,
   "metadata": {},
   "outputs": [],
   "source": [
    "# Finalement, pour effectuer les prédictions sur le dataset qui nous intéresse :\n",
    "test_pred = np.array(model.predict(df_sncf_target))\n",
    "test_pred.head(100)"
   ]
  },
  {
   "cell_type": "code",
   "execution_count": null,
   "metadata": {},
   "outputs": [],
   "source": []
  }
 ],
 "metadata": {
  "kernelspec": {
   "display_name": "Python 3",
   "language": "python",
   "name": "python3"
  },
  "language_info": {
   "codemirror_mode": {
    "name": "ipython",
    "version": 3
   },
   "file_extension": ".py",
   "mimetype": "text/x-python",
   "name": "python",
   "nbconvert_exporter": "python",
   "pygments_lexer": "ipython3",
   "version": "3.8.3"
  }
 },
 "nbformat": 4,
 "nbformat_minor": 2
}
